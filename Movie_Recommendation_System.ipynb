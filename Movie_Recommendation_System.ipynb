{
  "nbformat": 4,
  "nbformat_minor": 0,
  "metadata": {
    "colab": {
      "name": "Movie Recommendation System.ipynb",
      "provenance": [],
      "collapsed_sections": []
    },
    "kernelspec": {
      "name": "python3",
      "display_name": "Python 3"
    },
    "language_info": {
      "name": "python"
    }
  },
  "cells": [
    {
      "cell_type": "code",
      "execution_count": 59,
      "metadata": {
        "colab": {
          "base_uri": "https://localhost:8080/"
        },
        "id": "uwKGsG250SAr",
        "outputId": "0e978938-668f-4774-9bc6-df979488b2b1"
      },
      "outputs": [
        {
          "output_type": "stream",
          "name": "stdout",
          "text": [
            "    Movie ID                        Movie Name  ...  History  Label\n",
            "0         58                The Imitation Game  ...        0      0\n",
            "1          8                        Ex Machina  ...        0      0\n",
            "2         46                  A Beautiful Mind  ...        0      0\n",
            "3         62                 Good Will Hunting  ...        0      0\n",
            "4         97                      Forrest Gump  ...        0      0\n",
            "5         98                                21  ...        1      0\n",
            "6         31                            Gifted  ...        0      0\n",
            "7          3               Travelling Salesman  ...        0      0\n",
            "8         51                            Avatar  ...        0      0\n",
            "9         47                    The Karate Kid  ...        0      0\n",
            "10        50            A Brilliant Young Mind  ...        0      0\n",
            "11        49                    A Time To Kill  ...        0      0\n",
            "12        30                      Interstellar  ...        0      0\n",
            "13        94           The Wolf of Wall Street  ...        0      0\n",
            "14         6                     Black Panther  ...        0      0\n",
            "15        73                         Inception  ...        0      0\n",
            "16        44                    The Wind Rises  ...        0      0\n",
            "17        65                     Spirited Away  ...        0      0\n",
            "18        48                 Finding Forrester  ...        0      0\n",
            "19        27                      The Fountain  ...        0      0\n",
            "20        57                  The DaVinci Code  ...        0      0\n",
            "21        57                 Stand and Deliver  ...        0      0\n",
            "22        14                    The Terminator  ...        0      0\n",
            "23        69                    21 Jump Street  ...        0      0\n",
            "24        98                      The Avengers  ...        0      0\n",
            "25        17                    Thor: Ragnarok  ...        0      0\n",
            "26        12  Spirit: Stallion of the Cimarron  ...        0      0\n",
            "27         1                     Hacksaw Ridge  ...        1      0\n",
            "28        86                  12 Years a Slave  ...        1      0\n",
            "29        46                    Queen of Katwe  ...        0      0\n",
            "\n",
            "[30 rows x 11 columns]\n"
          ]
        }
      ],
      "source": [
        "import pandas as pd\n",
        "import math\n",
        "\n",
        "df=pd.read_csv(r'movies_recommendation_data.csv')\n",
        "print(df)"
      ]
    },
    {
      "cell_type": "code",
      "source": [
        "data = df.to_numpy()\n",
        "result =[]\n",
        "\n",
        "def extract_list(name):\n",
        "  for i in range(len(data)):\n",
        "    if(name == data[i][1]):\n",
        "      return cosine_relationship(data[i])\n",
        "\n",
        "def take_dot_product(a,b):\n",
        "  product =0\n",
        "  for i in range(2,len(a)):\n",
        "    product+=a[i]*b[i]\n",
        "  return product\n",
        "\n",
        "def find_sq(a,b):\n",
        "  answer_a=0\n",
        "  answer_b=0\n",
        "  for i in range(2,len(a)):\n",
        "    answer_a+=a[i]*a[i]\n",
        "  for i in range(2,len(b)):\n",
        "    answer_b+=b[i]*b[i]\n",
        "  answer_a=math.sqrt(answer_a)\n",
        "  answer_b=math.sqrt(answer_b)\n",
        "  answer=answer_a*answer_b\n",
        "  return answer\n",
        "\n",
        "\n",
        "def cosine_relationship(find):\n",
        "  for i in range(len(data)):\n",
        "    if(data[i][1]==find[1]):\n",
        "      pass\n",
        "    else:\n",
        "      dot=take_dot_product(data[i],find)\n",
        "      sqr=find_sq(data[i],find)\n",
        "      result.append([dot/sqr,data[i][1]])\n",
        "\n",
        "def extract_recommendation(key):\n",
        "  result.sort()\n",
        "  result.reverse()\n",
        "  print()\n",
        "  for i in range(int(key)):\n",
        "    print(str(i+1)+\" \"+result[i][1]+\"  (\"+str(result[i][0])+\")\")"
      ],
      "metadata": {
        "id": "bAGGnBio2QFd"
      },
      "execution_count": 68,
      "outputs": []
    },
    {
      "cell_type": "code",
      "source": [
        "movie_name=input(\"enter the movie name: \")\n",
        "if(movie_name in df.values):\n",
        "  extract_list(movie_name)\n",
        "  key=int(input(\"Enter How Many Movies Suggestion Do You Want?: \"))\n",
        "  if(len(data)<key):\n",
        "    print(\"That Exceed The Movies Limit\")\n",
        "  else:\n",
        "    extract_recommendation(key)\n",
        "else:\n",
        "  print(\"No Such movies Found!!!\")"
      ],
      "metadata": {
        "colab": {
          "base_uri": "https://localhost:8080/"
        },
        "id": "tBJN5sHS1dtG",
        "outputId": "82047816-3c4f-440a-ac25-02b671fb084d"
      },
      "execution_count": 72,
      "outputs": [
        {
          "output_type": "stream",
          "name": "stdout",
          "text": [
            "enter the movie name: Avatar\n",
            "Enter How Many Movies Suggestion Do You Want?: 10\n",
            "\n",
            "1 The Terminator  (1.0)\n",
            "2 The Terminator  (1.0)\n",
            "3 The Fountain  (1.0)\n",
            "4 The Fountain  (1.0)\n",
            "5 The Avengers  (1.0)\n",
            "6 Spirited Away  (1.0)\n",
            "7 Spirited Away  (1.0)\n",
            "8 Spirit: Stallion of the Cimarron  (1.0)\n",
            "9 Spirit: Stallion of the Cimarron  (1.0)\n",
            "10 Inception  (1.0)\n"
          ]
        }
      ]
    }
  ]
}